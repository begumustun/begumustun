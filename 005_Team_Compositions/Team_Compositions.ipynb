{
 "cells": [
  {
   "cell_type": "code",
   "execution_count": 7,
   "metadata": {},
   "outputs": [
    {
     "data": {
      "text/plain": [
       "126"
      ]
     },
     "execution_count": 7,
     "metadata": {},
     "output_type": "execute_result"
    }
   ],
   "source": [
    "import csv\n",
    "data_file = open('picks.csv', 'w', newline='')\n",
    "csv_writer = csv.writer(data_file)\n",
    "header=(\"championid1\",\"championid2\",\"championid3\",\"championid4\",\"championid5\",\"championid6\",\"championid7\",\"championid8\",\"championid9\",\"championid10\",\"152\")\n",
    "csv_writer.writerow(header)"
   ]
  },
  {
   "cell_type": "code",
   "execution_count": 8,
   "metadata": {},
   "outputs": [
    {
     "data": {
      "text/html": [
       "<div>\n",
       "<style scoped>\n",
       "    .dataframe tbody tr th:only-of-type {\n",
       "        vertical-align: middle;\n",
       "    }\n",
       "\n",
       "    .dataframe tbody tr th {\n",
       "        vertical-align: top;\n",
       "    }\n",
       "\n",
       "    .dataframe thead th {\n",
       "        text-align: right;\n",
       "    }\n",
       "</style>\n",
       "<table border=\"1\" class=\"dataframe\">\n",
       "  <thead>\n",
       "    <tr style=\"text-align: right;\">\n",
       "      <th></th>\n",
       "      <th>championid</th>\n",
       "      <th>winrate</th>\n",
       "      <th>championwinrate</th>\n",
       "    </tr>\n",
       "  </thead>\n",
       "  <tbody>\n",
       "    <tr>\n",
       "      <th>0</th>\n",
       "      <td>54</td>\n",
       "      <td>0.602708</td>\n",
       "      <td>0.4881</td>\n",
       "    </tr>\n",
       "    <tr>\n",
       "      <th>1</th>\n",
       "      <td>77</td>\n",
       "      <td>0.493750</td>\n",
       "      <td>0.5050</td>\n",
       "    </tr>\n",
       "    <tr>\n",
       "      <th>2</th>\n",
       "      <td>50</td>\n",
       "      <td>0.200000</td>\n",
       "      <td>0.4978</td>\n",
       "    </tr>\n",
       "    <tr>\n",
       "      <th>3</th>\n",
       "      <td>24</td>\n",
       "      <td>0.670000</td>\n",
       "      <td>0.5035</td>\n",
       "    </tr>\n",
       "    <tr>\n",
       "      <th>4</th>\n",
       "      <td>6</td>\n",
       "      <td>0.556667</td>\n",
       "      <td>0.5170</td>\n",
       "    </tr>\n",
       "  </tbody>\n",
       "</table>\n",
       "</div>"
      ],
      "text/plain": [
       "   championid   winrate  championwinrate\n",
       "0          54  0.602708           0.4881\n",
       "1          77  0.493750           0.5050\n",
       "2          50  0.200000           0.4978\n",
       "3          24  0.670000           0.5035\n",
       "4           6  0.556667           0.5170"
      ]
     },
     "execution_count": 8,
     "metadata": {},
     "output_type": "execute_result"
    }
   ],
   "source": [
    "import pandas as pd\n",
    "df2=pd.read_csv('personal_and_champion_win_rates.csv')\n",
    "X2=df2[\"championid\"]\n",
    "df2"
   ]
  },
  {
   "cell_type": "code",
   "execution_count": 9,
   "metadata": {},
   "outputs": [
    {
     "name": "stdout",
     "output_type": "stream",
     "text": [
      "first pick:15\n",
      "second pick:111\n",
      "third pick:13\n",
      "fourth pick:41\n",
      "fifth pick:31\n",
      "sixth pick:6\n",
      "seventh pick:34\n",
      "eighth pick:48\n",
      "nineth pick:52\n",
      "tenth pick:59\n"
     ]
    }
   ],
   "source": [
    "list=[]\n",
    "list.append(0)\n",
    "pick1=int(input(\"first pick:\")) \n",
    "list.append(pick1) \n",
    "pick2=int(input(\"second pick:\")) \n",
    "list.append(pick2) \n",
    "pick3=int(input(\"third pick:\")) \n",
    "list.append(pick3)\n",
    "pick4=int(input(\"fourth pick:\")) \n",
    "list.append(pick4)\n",
    "pick5=int(input(\"fifth pick:\")) \n",
    "list.append(pick5)\n",
    "pick6=int(input(\"sixth pick:\")) \n",
    "list.append(pick6)\n",
    "pick7=int(input(\"seventh pick:\")) \n",
    "list.append(pick7)\n",
    "pick8=int(input(\"eighth pick:\")) \n",
    "list.append(pick8)\n",
    "pick9=int(input(\"nineth pick:\")) \n",
    "list.append(pick9)\n",
    "pick10=int(input(\"tenth pick:\")) \n",
    "list.append(pick10)\n",
    "list.append(153)"
   ]
  },
  {
   "cell_type": "code",
   "execution_count": 10,
   "metadata": {},
   "outputs": [],
   "source": [
    "for i in range(5):\n",
    "    list[5]=X2[i]\n",
    "    csv_writer.writerow(list)"
   ]
  },
  {
   "cell_type": "code",
   "execution_count": 11,
   "metadata": {},
   "outputs": [],
   "source": [
    "data_file.close()"
   ]
  },
  {
   "cell_type": "code",
   "execution_count": null,
   "metadata": {},
   "outputs": [],
   "source": []
  },
  {
   "cell_type": "code",
   "execution_count": null,
   "metadata": {},
   "outputs": [],
   "source": []
  }
 ],
 "metadata": {
  "kernelspec": {
   "display_name": "Python 3",
   "language": "python",
   "name": "python3"
  },
  "language_info": {
   "codemirror_mode": {
    "name": "ipython",
    "version": 3
   },
   "file_extension": ".py",
   "mimetype": "text/x-python",
   "name": "python",
   "nbconvert_exporter": "python",
   "pygments_lexer": "ipython3",
   "version": "3.8.5"
  }
 },
 "nbformat": 4,
 "nbformat_minor": 4
}
