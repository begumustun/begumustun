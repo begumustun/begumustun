{
 "cells": [
  {
   "cell_type": "code",
   "execution_count": 1,
   "metadata": {},
   "outputs": [
    {
     "data": {
      "text/html": [
       "<div>\n",
       "<style scoped>\n",
       "    .dataframe tbody tr th:only-of-type {\n",
       "        vertical-align: middle;\n",
       "    }\n",
       "\n",
       "    .dataframe tbody tr th {\n",
       "        vertical-align: top;\n",
       "    }\n",
       "\n",
       "    .dataframe thead th {\n",
       "        text-align: right;\n",
       "    }\n",
       "</style>\n",
       "<table border=\"1\" class=\"dataframe\">\n",
       "  <thead>\n",
       "    <tr style=\"text-align: right;\">\n",
       "      <th></th>\n",
       "      <th>Champion</th>\n",
       "      <th>Winrate</th>\n",
       "      <th>Champid</th>\n",
       "    </tr>\n",
       "  </thead>\n",
       "  <tbody>\n",
       "    <tr>\n",
       "      <th>0</th>\n",
       "      <td>Renekton</td>\n",
       "      <td>0.602708</td>\n",
       "      <td>54</td>\n",
       "    </tr>\n",
       "    <tr>\n",
       "      <th>1</th>\n",
       "      <td>Garen</td>\n",
       "      <td>0.493750</td>\n",
       "      <td>77</td>\n",
       "    </tr>\n",
       "    <tr>\n",
       "      <th>2</th>\n",
       "      <td>Malphite</td>\n",
       "      <td>0.200000</td>\n",
       "      <td>50</td>\n",
       "    </tr>\n",
       "    <tr>\n",
       "      <th>3</th>\n",
       "      <td>Jax</td>\n",
       "      <td>0.670000</td>\n",
       "      <td>24</td>\n",
       "    </tr>\n",
       "    <tr>\n",
       "      <th>4</th>\n",
       "      <td>Urgot</td>\n",
       "      <td>0.556667</td>\n",
       "      <td>6</td>\n",
       "    </tr>\n",
       "    <tr>\n",
       "      <th>5</th>\n",
       "      <td>Gnar</td>\n",
       "      <td>0.670000</td>\n",
       "      <td>114</td>\n",
       "    </tr>\n",
       "  </tbody>\n",
       "</table>\n",
       "</div>"
      ],
      "text/plain": [
       "   Champion   Winrate  Champid\n",
       "0  Renekton  0.602708       54\n",
       "1     Garen  0.493750       77\n",
       "2  Malphite  0.200000       50\n",
       "3       Jax  0.670000       24\n",
       "4     Urgot  0.556667        6\n",
       "5      Gnar  0.670000      114"
      ]
     },
     "execution_count": 1,
     "metadata": {},
     "output_type": "execute_result"
    }
   ],
   "source": [
    "import csv\n",
    "import pandas as pd\n",
    "\n",
    "df1=pd.read_csv('personal_win_rate.csv')\n",
    "x=(df1[\"Champid\"])\n",
    "y=(df1[\"Winrate\"])\n",
    "df1"
   ]
  },
  {
   "cell_type": "code",
   "execution_count": 2,
   "metadata": {},
   "outputs": [],
   "source": [
    "champ1=x[0]\n",
    "champ1_winr=y[0]\n",
    "champ2=x[1]\n",
    "champ2_winr=y[1]\n",
    "champ3=x[2]\n",
    "champ3_winr=y[2]\n",
    "champ4=x[3]\n",
    "champ4_winr=y[3]\n",
    "champ5=x[4]\n",
    "champ5_winr=y[4]\n"
   ]
  },
  {
   "cell_type": "code",
   "execution_count": 3,
   "metadata": {},
   "outputs": [
    {
     "data": {
      "text/plain": [
       "36"
      ]
     },
     "execution_count": 3,
     "metadata": {},
     "output_type": "execute_result"
    }
   ],
   "source": [
    "data_file = open('personal_and_champion_win_rates.csv', 'w', newline='')\n",
    "csv_writer = csv.writer(data_file)\n",
    "header=(\"championid\",\"winrate\",\"championwinrate\")\n",
    "csv_writer.writerow(header)"
   ]
  },
  {
   "cell_type": "code",
   "execution_count": 4,
   "metadata": {},
   "outputs": [
    {
     "data": {
      "text/html": [
       "<div>\n",
       "<style scoped>\n",
       "    .dataframe tbody tr th:only-of-type {\n",
       "        vertical-align: middle;\n",
       "    }\n",
       "\n",
       "    .dataframe tbody tr th {\n",
       "        vertical-align: top;\n",
       "    }\n",
       "\n",
       "    .dataframe thead th {\n",
       "        text-align: right;\n",
       "    }\n",
       "</style>\n",
       "<table border=\"1\" class=\"dataframe\">\n",
       "  <thead>\n",
       "    <tr style=\"text-align: right;\">\n",
       "      <th></th>\n",
       "      <th>Champid</th>\n",
       "      <th>Champno</th>\n",
       "      <th>winrate</th>\n",
       "    </tr>\n",
       "  </thead>\n",
       "  <tbody>\n",
       "    <tr>\n",
       "      <th>0</th>\n",
       "      <td>0.0.0</td>\n",
       "      <td>NaN</td>\n",
       "      <td>NaN</td>\n",
       "    </tr>\n",
       "    <tr>\n",
       "      <th>1</th>\n",
       "      <td>Annie</td>\n",
       "      <td>1.0</td>\n",
       "      <td>0.5279</td>\n",
       "    </tr>\n",
       "    <tr>\n",
       "      <th>2</th>\n",
       "      <td>Olaf</td>\n",
       "      <td>2.0</td>\n",
       "      <td>0.4811</td>\n",
       "    </tr>\n",
       "    <tr>\n",
       "      <th>3</th>\n",
       "      <td>Galio</td>\n",
       "      <td>3.0</td>\n",
       "      <td>0.5193</td>\n",
       "    </tr>\n",
       "    <tr>\n",
       "      <th>4</th>\n",
       "      <td>Twisted Fate</td>\n",
       "      <td>4.0</td>\n",
       "      <td>0.4859</td>\n",
       "    </tr>\n",
       "    <tr>\n",
       "      <th>...</th>\n",
       "      <td>...</td>\n",
       "      <td>...</td>\n",
       "      <td>...</td>\n",
       "    </tr>\n",
       "    <tr>\n",
       "      <th>150</th>\n",
       "      <td>Rell</td>\n",
       "      <td>150.0</td>\n",
       "      <td>0.4903</td>\n",
       "    </tr>\n",
       "    <tr>\n",
       "      <th>151</th>\n",
       "      <td>Pyke</td>\n",
       "      <td>151.0</td>\n",
       "      <td>0.4979</td>\n",
       "    </tr>\n",
       "    <tr>\n",
       "      <th>152</th>\n",
       "      <td>Sett</td>\n",
       "      <td>152.0</td>\n",
       "      <td>0.5058</td>\n",
       "    </tr>\n",
       "    <tr>\n",
       "      <th>153</th>\n",
       "      <td>Lillia</td>\n",
       "      <td>153.0</td>\n",
       "      <td>0.4405</td>\n",
       "    </tr>\n",
       "    <tr>\n",
       "      <th>154</th>\n",
       "      <td>Yone</td>\n",
       "      <td>154.0</td>\n",
       "      <td>0.4899</td>\n",
       "    </tr>\n",
       "  </tbody>\n",
       "</table>\n",
       "<p>155 rows × 3 columns</p>\n",
       "</div>"
      ],
      "text/plain": [
       "          Champid  Champno  winrate\n",
       "0           0.0.0      NaN      NaN\n",
       "1           Annie      1.0   0.5279\n",
       "2            Olaf      2.0   0.4811\n",
       "3           Galio      3.0   0.5193\n",
       "4    Twisted Fate      4.0   0.4859\n",
       "..            ...      ...      ...\n",
       "150          Rell    150.0   0.4903\n",
       "151          Pyke    151.0   0.4979\n",
       "152          Sett    152.0   0.5058\n",
       "153        Lillia    153.0   0.4405\n",
       "154          Yone    154.0   0.4899\n",
       "\n",
       "[155 rows x 3 columns]"
      ]
     },
     "execution_count": 4,
     "metadata": {},
     "output_type": "execute_result"
    }
   ],
   "source": [
    "df=pd.read_csv('champion_win_rates.csv')\n",
    "df\n"
   ]
  },
  {
   "cell_type": "code",
   "execution_count": 5,
   "metadata": {},
   "outputs": [
    {
     "data": {
      "text/plain": [
       "29"
      ]
     },
     "execution_count": 5,
     "metadata": {},
     "output_type": "execute_result"
    }
   ],
   "source": [
    "list1=[]\n",
    "list1.append(0)\n",
    "list1.append(champ1)\n",
    "list1.append(champ1_winr)\n",
    "list1.append(df[\"winrate\"][champ1])\n",
    "\n",
    "list2=[]\n",
    "list2.append(1)\n",
    "list2.append(champ2)\n",
    "list2.append(champ2_winr)\n",
    "list2.append(df[\"winrate\"][champ2])\n",
    "\n",
    "list3=[]\n",
    "list3.append(2)\n",
    "list3.append(champ3)\n",
    "list3.append(champ3_winr)\n",
    "list3.append(df[\"winrate\"][champ3])\n",
    "\n",
    "list4=[]\n",
    "list4.append(3)\n",
    "list4.append(champ4)\n",
    "list4.append(champ4_winr)\n",
    "list4.append(df[\"winrate\"][champ4])\n",
    "\n",
    "list5=[]\n",
    "list5.append(4)\n",
    "list5.append(champ5)\n",
    "list5.append(champ5_winr)\n",
    "list5.append(df[\"winrate\"][champ5])\n",
    "\n",
    "csv_writer.writerow(list1)\n",
    "csv_writer.writerow(list2)\n",
    "csv_writer.writerow(list3)\n",
    "csv_writer.writerow(list4)\n",
    "csv_writer.writerow(list5)\n",
    "\n"
   ]
  },
  {
   "cell_type": "code",
   "execution_count": 6,
   "metadata": {},
   "outputs": [],
   "source": [
    "data_file.close()"
   ]
  },
  {
   "cell_type": "code",
   "execution_count": null,
   "metadata": {},
   "outputs": [],
   "source": []
  }
 ],
 "metadata": {
  "kernelspec": {
   "display_name": "Python 3",
   "language": "python",
   "name": "python3"
  },
  "language_info": {
   "codemirror_mode": {
    "name": "ipython",
    "version": 3
   },
   "file_extension": ".py",
   "mimetype": "text/x-python",
   "name": "python",
   "nbconvert_exporter": "python",
   "pygments_lexer": "ipython3",
   "version": "3.8.5"
  }
 },
 "nbformat": 4,
 "nbformat_minor": 4
}
