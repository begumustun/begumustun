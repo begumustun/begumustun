{
 "cells": [
  {
   "cell_type": "code",
   "execution_count": 81,
   "metadata": {},
   "outputs": [],
   "source": [
    "import csv\n",
    "import time\n",
    "import requests\n",
    "import pandas as pd"
   ]
  },
  {
   "cell_type": "code",
   "execution_count": 82,
   "metadata": {},
   "outputs": [
    {
     "name": "stdout",
     "output_type": "stream",
     "text": [
      "There are 2000 game ids.\n"
     ]
    }
   ],
   "source": [
    "game_ids = list()\n",
    "with open(\"Challenger_Ranked_Games_9-10k.csv\") as csv_file:\n",
    "    spam = csv.reader(csv_file, delimiter=\",\")\n",
    "    for row in spam:\n",
    "        game_ids.append(row[0])\n",
    "\n",
    "num_of_games = len(game_ids)\n",
    "print(f\"There are {num_of_games} game ids.\")\n"
   ]
  },
  {
   "cell_type": "code",
   "execution_count": 83,
   "metadata": {},
   "outputs": [],
   "source": [
    "qps = 100/120 # 100 query per 120 seconds\n",
    "error_count = 0\n",
    "corrupted_game_ids = list()\n",
    "\n",
    "df = pd.DataFrame(columns=[\"game_id\", \"data\"])"
   ]
  },
  {
   "cell_type": "code",
   "execution_count": 84,
   "metadata": {
    "scrolled": true
   },
   "outputs": [
    {
     "name": "stdout",
     "output_type": "stream",
     "text": [
      "Progress: 0.0 %\n",
      "Error in gid 4224499502. 504, https://kr.api.riotgames.com/lol/match/v4/matches/4224499502?api_key=RGAPI-05bd6712-e319-4be2-9f25-5529b995b4f5\n",
      "Progress: 1.0 %\n",
      "Progress: 2.0 %\n",
      "Progress: 3.0 %\n",
      "Progress: 4.0 %\n",
      "Progress: 5.0 %\n",
      "Progress: 6.0 %\n",
      "Progress: 7.000000000000001 %\n",
      "Progress: 8.0 %\n",
      "Progress: 9.0 %\n",
      "Progress: 10.0 %\n",
      "Progress: 11.0 %\n",
      "Progress: 12.0 %\n",
      "Progress: 13.0 %\n",
      "Progress: 14.000000000000002 %\n",
      "Progress: 15.0 %\n",
      "Progress: 16.0 %\n",
      "Error in gid 4234600299. 504, https://kr.api.riotgames.com/lol/match/v4/matches/4234600299?api_key=RGAPI-05bd6712-e319-4be2-9f25-5529b995b4f5\n",
      "Progress: 17.0 %\n",
      "Progress: 18.0 %\n",
      "Progress: 19.0 %\n",
      "Progress: 20.0 %\n",
      "Progress: 21.0 %\n",
      "Progress: 22.0 %\n",
      "Progress: 23.0 %\n",
      "Progress: 24.0 %\n",
      "Progress: 25.0 %\n",
      "Progress: 26.0 %\n",
      "Progress: 27.0 %\n",
      "Progress: 28.000000000000004 %\n",
      "Progress: 28.999999999999996 %\n",
      "Progress: 30.0 %\n",
      "Progress: 31.0 %\n",
      "Error in gid 4231391845. 504, https://kr.api.riotgames.com/lol/match/v4/matches/4231391845?api_key=RGAPI-05bd6712-e319-4be2-9f25-5529b995b4f5\n",
      "Progress: 32.0 %\n",
      "Progress: 33.0 %\n",
      "Progress: 34.0 %\n",
      "Progress: 35.0 %\n",
      "Progress: 36.0 %\n",
      "Progress: 37.0 %\n",
      "Progress: 38.0 %\n",
      "Progress: 39.0 %\n",
      "Progress: 40.0 %\n",
      "Progress: 41.0 %\n",
      "Progress: 42.0 %\n",
      "Progress: 43.0 %\n",
      "Progress: 44.0 %\n",
      "Progress: 45.0 %\n",
      "Progress: 46.0 %\n",
      "Progress: 47.0 %\n",
      "Progress: 48.0 %\n",
      "Progress: 49.0 %\n",
      "Progress: 50.0 %\n",
      "Progress: 51.0 %\n",
      "Progress: 52.0 %\n",
      "Progress: 53.0 %\n",
      "Error in gid 4212116409. 504, https://kr.api.riotgames.com/lol/match/v4/matches/4212116409?api_key=RGAPI-05bd6712-e319-4be2-9f25-5529b995b4f5\n",
      "Progress: 54.0 %\n",
      "Progress: 55.00000000000001 %\n",
      "Error in gid 4219581428. 504, https://kr.api.riotgames.com/lol/match/v4/matches/4219581428?api_key=RGAPI-05bd6712-e319-4be2-9f25-5529b995b4f5\n",
      "Progress: 56.00000000000001 %\n",
      "Progress: 56.99999999999999 %\n",
      "Progress: 57.99999999999999 %\n",
      "Progress: 59.0 %\n",
      "Progress: 60.0 %\n",
      "Progress: 61.0 %\n",
      "Progress: 62.0 %\n",
      "Progress: 63.0 %\n",
      "Progress: 64.0 %\n",
      "Progress: 65.0 %\n",
      "Progress: 66.0 %\n",
      "Progress: 67.0 %\n",
      "Progress: 68.0 %\n",
      "Progress: 69.0 %\n",
      "Progress: 70.0 %\n",
      "Progress: 71.0 %\n",
      "Progress: 72.0 %\n",
      "Progress: 73.0 %\n",
      "Progress: 74.0 %\n",
      "Progress: 75.0 %\n",
      "Progress: 76.0 %\n",
      "Progress: 77.0 %\n",
      "Progress: 78.0 %\n",
      "Progress: 79.0 %\n",
      "Progress: 80.0 %\n",
      "Progress: 81.0 %\n",
      "Progress: 82.0 %\n",
      "Progress: 83.0 %\n",
      "Progress: 84.0 %\n",
      "Error in gid 4243400052. 504, https://kr.api.riotgames.com/lol/match/v4/matches/4243400052?api_key=RGAPI-05bd6712-e319-4be2-9f25-5529b995b4f5\n",
      "Progress: 85.0 %\n",
      "Progress: 86.0 %\n",
      "Progress: 87.0 %\n",
      "Progress: 88.0 %\n",
      "Progress: 89.0 %\n",
      "Progress: 90.0 %\n",
      "Progress: 91.0 %\n",
      "Progress: 92.0 %\n",
      "Progress: 93.0 %\n",
      "Progress: 94.0 %\n",
      "Progress: 95.0 %\n",
      "Progress: 96.0 %\n",
      "Progress: 97.0 %\n",
      "Progress: 98.0 %\n",
      "Error in gid 4214178726. 504, https://kr.api.riotgames.com/lol/match/v4/matches/4214178726?api_key=RGAPI-05bd6712-e319-4be2-9f25-5529b995b4f5\n",
      "Progress: 99.0 %\n"
     ]
    }
   ],
   "source": [
    "count = 0\n",
    "\n",
    "for gid in game_ids[1:]: # first row is ignored since it is header\n",
    "    if count % (num_of_games // 100) == 0:\n",
    "        print(f\"Progress: {round(count/num_of_games,3) * 100} %\")\n",
    "    count += 1\n",
    "    # create the query\n",
    "    q = f\"https://kr.api.riotgames.com/lol/match/v4/matches/{gid}?api_key=RGAPI-05bd6712-e319-4be2-9f25-5529b995b4f5\"\n",
    "    \n",
    "    # send get request\n",
    "    r = requests.get(q)\n",
    "    time.sleep(qps)\n",
    "    \n",
    "    # if error occurs\n",
    "    while r.status_code != 200:\n",
    "        print(f\"Error in gid {gid}. {r.status_code}, {q}\")\n",
    "        time.sleep(qps)\n",
    "        r = requests.get(q)\n",
    "        error_count += 1\n",
    "        if error_count == 5:\n",
    "            corrupted_game_ids.append(gid)\n",
    "            break\n",
    "    error_count = 0\n",
    "    \n",
    "    # add game id and game_data to DataFrame\n",
    "    df = df.append({\"game_id\": gid, \"data\": r.text}, ignore_index=True)"
   ]
  },
  {
   "cell_type": "code",
   "execution_count": 85,
   "metadata": {},
   "outputs": [],
   "source": [
    "# save DataFrame as .csv file\n",
    "df.to_csv(\"all_games9-10.csv\")"
   ]
  },
  {
   "cell_type": "code",
   "execution_count": 86,
   "metadata": {},
   "outputs": [
    {
     "name": "stdout",
     "output_type": "stream",
     "text": [
      "These ids could not retrieved:  []\n"
     ]
    }
   ],
   "source": [
    "print(\"These ids could not retrieved: \", corrupted_game_ids)"
   ]
  },
  {
   "cell_type": "code",
   "execution_count": 68,
   "metadata": {},
   "outputs": [
    {
     "data": {
      "text/plain": [
       "1998"
      ]
     },
     "execution_count": 68,
     "metadata": {},
     "output_type": "execute_result"
    }
   ],
   "source": [
    "df.size"
   ]
  },
  {
   "cell_type": "code",
   "execution_count": 48,
   "metadata": {},
   "outputs": [
    {
     "ename": "ValueError",
     "evalue": "Length of values (998) does not match length of index (999)",
     "output_type": "error",
     "traceback": [
      "\u001b[1;31m---------------------------------------------------------------------------\u001b[0m",
      "\u001b[1;31mValueError\u001b[0m                                Traceback (most recent call last)",
      "\u001b[1;32m<ipython-input-48-9c873511e3ee>\u001b[0m in \u001b[0;36m<module>\u001b[1;34m\u001b[0m\n\u001b[0;32m      2\u001b[0m \u001b[1;33m\u001b[0m\u001b[0m\n\u001b[0;32m      3\u001b[0m \u001b[0mu\u001b[0m\u001b[1;33m[\u001b[0m\u001b[1;34m\"game_id\"\u001b[0m\u001b[1;33m]\u001b[0m \u001b[1;33m=\u001b[0m \u001b[0mdf\u001b[0m\u001b[1;33m[\u001b[0m\u001b[1;34m\"game_id\"\u001b[0m\u001b[1;33m]\u001b[0m\u001b[1;33m.\u001b[0m\u001b[0munique\u001b[0m\u001b[1;33m(\u001b[0m\u001b[1;33m)\u001b[0m\u001b[1;33m\u001b[0m\u001b[1;33m\u001b[0m\u001b[0m\n\u001b[1;32m----> 4\u001b[1;33m \u001b[0mu\u001b[0m\u001b[1;33m[\u001b[0m\u001b[1;34m\"data\"\u001b[0m\u001b[1;33m]\u001b[0m \u001b[1;33m=\u001b[0m \u001b[0mdf\u001b[0m\u001b[1;33m[\u001b[0m\u001b[1;34m\"data\"\u001b[0m\u001b[1;33m]\u001b[0m\u001b[1;33m.\u001b[0m\u001b[0munique\u001b[0m\u001b[1;33m(\u001b[0m\u001b[1;33m)\u001b[0m\u001b[1;33m[\u001b[0m\u001b[1;33m:\u001b[0m\u001b[1;33m-\u001b[0m\u001b[1;36m1\u001b[0m\u001b[1;33m]\u001b[0m\u001b[1;33m\u001b[0m\u001b[1;33m\u001b[0m\u001b[0m\n\u001b[0m\u001b[0;32m      5\u001b[0m \u001b[1;33m\u001b[0m\u001b[0m\n\u001b[0;32m      6\u001b[0m \u001b[0mu\u001b[0m\u001b[1;33m.\u001b[0m\u001b[0mto_csv\u001b[0m\u001b[1;33m(\u001b[0m\u001b[1;34m\"challenger_2k.csv\"\u001b[0m\u001b[1;33m)\u001b[0m\u001b[1;33m\u001b[0m\u001b[1;33m\u001b[0m\u001b[0m\n",
      "\u001b[1;32m~\\anaconda3\\anaconda\\lib\\site-packages\\pandas\\core\\frame.py\u001b[0m in \u001b[0;36m__setitem__\u001b[1;34m(self, key, value)\u001b[0m\n\u001b[0;32m   3038\u001b[0m         \u001b[1;32melse\u001b[0m\u001b[1;33m:\u001b[0m\u001b[1;33m\u001b[0m\u001b[1;33m\u001b[0m\u001b[0m\n\u001b[0;32m   3039\u001b[0m             \u001b[1;31m# set column\u001b[0m\u001b[1;33m\u001b[0m\u001b[1;33m\u001b[0m\u001b[1;33m\u001b[0m\u001b[0m\n\u001b[1;32m-> 3040\u001b[1;33m             \u001b[0mself\u001b[0m\u001b[1;33m.\u001b[0m\u001b[0m_set_item\u001b[0m\u001b[1;33m(\u001b[0m\u001b[0mkey\u001b[0m\u001b[1;33m,\u001b[0m \u001b[0mvalue\u001b[0m\u001b[1;33m)\u001b[0m\u001b[1;33m\u001b[0m\u001b[1;33m\u001b[0m\u001b[0m\n\u001b[0m\u001b[0;32m   3041\u001b[0m \u001b[1;33m\u001b[0m\u001b[0m\n\u001b[0;32m   3042\u001b[0m     \u001b[1;32mdef\u001b[0m \u001b[0m_setitem_slice\u001b[0m\u001b[1;33m(\u001b[0m\u001b[0mself\u001b[0m\u001b[1;33m,\u001b[0m \u001b[0mkey\u001b[0m\u001b[1;33m:\u001b[0m \u001b[0mslice\u001b[0m\u001b[1;33m,\u001b[0m \u001b[0mvalue\u001b[0m\u001b[1;33m)\u001b[0m\u001b[1;33m:\u001b[0m\u001b[1;33m\u001b[0m\u001b[1;33m\u001b[0m\u001b[0m\n",
      "\u001b[1;32m~\\anaconda3\\anaconda\\lib\\site-packages\\pandas\\core\\frame.py\u001b[0m in \u001b[0;36m_set_item\u001b[1;34m(self, key, value)\u001b[0m\n\u001b[0;32m   3114\u001b[0m         \"\"\"\n\u001b[0;32m   3115\u001b[0m         \u001b[0mself\u001b[0m\u001b[1;33m.\u001b[0m\u001b[0m_ensure_valid_index\u001b[0m\u001b[1;33m(\u001b[0m\u001b[0mvalue\u001b[0m\u001b[1;33m)\u001b[0m\u001b[1;33m\u001b[0m\u001b[1;33m\u001b[0m\u001b[0m\n\u001b[1;32m-> 3116\u001b[1;33m         \u001b[0mvalue\u001b[0m \u001b[1;33m=\u001b[0m \u001b[0mself\u001b[0m\u001b[1;33m.\u001b[0m\u001b[0m_sanitize_column\u001b[0m\u001b[1;33m(\u001b[0m\u001b[0mkey\u001b[0m\u001b[1;33m,\u001b[0m \u001b[0mvalue\u001b[0m\u001b[1;33m)\u001b[0m\u001b[1;33m\u001b[0m\u001b[1;33m\u001b[0m\u001b[0m\n\u001b[0m\u001b[0;32m   3117\u001b[0m         \u001b[0mNDFrame\u001b[0m\u001b[1;33m.\u001b[0m\u001b[0m_set_item\u001b[0m\u001b[1;33m(\u001b[0m\u001b[0mself\u001b[0m\u001b[1;33m,\u001b[0m \u001b[0mkey\u001b[0m\u001b[1;33m,\u001b[0m \u001b[0mvalue\u001b[0m\u001b[1;33m)\u001b[0m\u001b[1;33m\u001b[0m\u001b[1;33m\u001b[0m\u001b[0m\n\u001b[0;32m   3118\u001b[0m \u001b[1;33m\u001b[0m\u001b[0m\n",
      "\u001b[1;32m~\\anaconda3\\anaconda\\lib\\site-packages\\pandas\\core\\frame.py\u001b[0m in \u001b[0;36m_sanitize_column\u001b[1;34m(self, key, value, broadcast)\u001b[0m\n\u001b[0;32m   3762\u001b[0m \u001b[1;33m\u001b[0m\u001b[0m\n\u001b[0;32m   3763\u001b[0m             \u001b[1;31m# turn me into an ndarray\u001b[0m\u001b[1;33m\u001b[0m\u001b[1;33m\u001b[0m\u001b[1;33m\u001b[0m\u001b[0m\n\u001b[1;32m-> 3764\u001b[1;33m             \u001b[0mvalue\u001b[0m \u001b[1;33m=\u001b[0m \u001b[0msanitize_index\u001b[0m\u001b[1;33m(\u001b[0m\u001b[0mvalue\u001b[0m\u001b[1;33m,\u001b[0m \u001b[0mself\u001b[0m\u001b[1;33m.\u001b[0m\u001b[0mindex\u001b[0m\u001b[1;33m)\u001b[0m\u001b[1;33m\u001b[0m\u001b[1;33m\u001b[0m\u001b[0m\n\u001b[0m\u001b[0;32m   3765\u001b[0m             \u001b[1;32mif\u001b[0m \u001b[1;32mnot\u001b[0m \u001b[0misinstance\u001b[0m\u001b[1;33m(\u001b[0m\u001b[0mvalue\u001b[0m\u001b[1;33m,\u001b[0m \u001b[1;33m(\u001b[0m\u001b[0mnp\u001b[0m\u001b[1;33m.\u001b[0m\u001b[0mndarray\u001b[0m\u001b[1;33m,\u001b[0m \u001b[0mIndex\u001b[0m\u001b[1;33m)\u001b[0m\u001b[1;33m)\u001b[0m\u001b[1;33m:\u001b[0m\u001b[1;33m\u001b[0m\u001b[1;33m\u001b[0m\u001b[0m\n\u001b[0;32m   3766\u001b[0m                 \u001b[1;32mif\u001b[0m \u001b[0misinstance\u001b[0m\u001b[1;33m(\u001b[0m\u001b[0mvalue\u001b[0m\u001b[1;33m,\u001b[0m \u001b[0mlist\u001b[0m\u001b[1;33m)\u001b[0m \u001b[1;32mand\u001b[0m \u001b[0mlen\u001b[0m\u001b[1;33m(\u001b[0m\u001b[0mvalue\u001b[0m\u001b[1;33m)\u001b[0m \u001b[1;33m>\u001b[0m \u001b[1;36m0\u001b[0m\u001b[1;33m:\u001b[0m\u001b[1;33m\u001b[0m\u001b[1;33m\u001b[0m\u001b[0m\n",
      "\u001b[1;32m~\\anaconda3\\anaconda\\lib\\site-packages\\pandas\\core\\internals\\construction.py\u001b[0m in \u001b[0;36msanitize_index\u001b[1;34m(data, index)\u001b[0m\n\u001b[0;32m    745\u001b[0m     \"\"\"\n\u001b[0;32m    746\u001b[0m     \u001b[1;32mif\u001b[0m \u001b[0mlen\u001b[0m\u001b[1;33m(\u001b[0m\u001b[0mdata\u001b[0m\u001b[1;33m)\u001b[0m \u001b[1;33m!=\u001b[0m \u001b[0mlen\u001b[0m\u001b[1;33m(\u001b[0m\u001b[0mindex\u001b[0m\u001b[1;33m)\u001b[0m\u001b[1;33m:\u001b[0m\u001b[1;33m\u001b[0m\u001b[1;33m\u001b[0m\u001b[0m\n\u001b[1;32m--> 747\u001b[1;33m         raise ValueError(\n\u001b[0m\u001b[0;32m    748\u001b[0m             \u001b[1;34m\"Length of values \"\u001b[0m\u001b[1;33m\u001b[0m\u001b[1;33m\u001b[0m\u001b[0m\n\u001b[0;32m    749\u001b[0m             \u001b[1;34mf\"({len(data)}) \"\u001b[0m\u001b[1;33m\u001b[0m\u001b[1;33m\u001b[0m\u001b[0m\n",
      "\u001b[1;31mValueError\u001b[0m: Length of values (998) does not match length of index (999)"
     ]
    }
   ],
   "source": [
    "u = pd.DataFrame(columns=[\"game_id\", \"data\"])\n",
    "\n",
    "u[\"game_id\"] = df[\"game_id\"].unique()\n",
    "u[\"data\"] = df[\"data\"].unique()[:-1]\n",
    "\n",
    "u.to_csv(\"challenger_2k.csv\")"
   ]
  },
  {
   "cell_type": "code",
   "execution_count": 45,
   "metadata": {},
   "outputs": [
    {
     "data": {
      "text/plain": [
       "(9879, 2)"
      ]
     },
     "execution_count": 45,
     "metadata": {},
     "output_type": "execute_result"
    }
   ],
   "source": [
    "u.shape"
   ]
  },
  {
   "cell_type": "code",
   "execution_count": null,
   "metadata": {},
   "outputs": [],
   "source": []
  },
  {
   "cell_type": "code",
   "execution_count": null,
   "metadata": {},
   "outputs": [],
   "source": []
  },
  {
   "cell_type": "code",
   "execution_count": null,
   "metadata": {},
   "outputs": [],
   "source": []
  }
 ],
 "metadata": {
  "kernelspec": {
   "display_name": "Python 3",
   "language": "python",
   "name": "python3"
  },
  "language_info": {
   "codemirror_mode": {
    "name": "ipython",
    "version": 3
   },
   "file_extension": ".py",
   "mimetype": "text/x-python",
   "name": "python",
   "nbconvert_exporter": "python",
   "pygments_lexer": "ipython3",
   "version": "3.8.5"
  }
 },
 "nbformat": 4,
 "nbformat_minor": 5
}
