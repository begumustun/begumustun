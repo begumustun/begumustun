{
 "cells": [
  {
   "cell_type": "code",
   "execution_count": 33,
   "metadata": {},
   "outputs": [],
   "source": [
    "import pandas as pd\n",
    "import json\n",
    "import csv\n",
    "import sys"
   ]
  },
  {
   "cell_type": "code",
   "execution_count": 34,
   "metadata": {},
   "outputs": [
    {
     "data": {
      "text/html": [
       "<div>\n",
       "<style scoped>\n",
       "    .dataframe tbody tr th:only-of-type {\n",
       "        vertical-align: middle;\n",
       "    }\n",
       "\n",
       "    .dataframe tbody tr th {\n",
       "        vertical-align: top;\n",
       "    }\n",
       "\n",
       "    .dataframe thead th {\n",
       "        text-align: right;\n",
       "    }\n",
       "</style>\n",
       "<table border=\"1\" class=\"dataframe\">\n",
       "  <thead>\n",
       "    <tr style=\"text-align: right;\">\n",
       "      <th></th>\n",
       "      <th>Unnamed: 0</th>\n",
       "      <th>game_id</th>\n",
       "      <th>data</th>\n",
       "    </tr>\n",
       "  </thead>\n",
       "  <tbody>\n",
       "    <tr>\n",
       "      <th>0</th>\n",
       "      <td>0</td>\n",
       "      <td>4225086418</td>\n",
       "      <td>{\"gameId\":4225086418,\"platformId\":\"KR\",\"gameCr...</td>\n",
       "    </tr>\n",
       "    <tr>\n",
       "      <th>1</th>\n",
       "      <td>1</td>\n",
       "      <td>4224499502</td>\n",
       "      <td>{\"gameId\":4224499502,\"platformId\":\"KR\",\"gameCr...</td>\n",
       "    </tr>\n",
       "    <tr>\n",
       "      <th>2</th>\n",
       "      <td>2</td>\n",
       "      <td>4224299083</td>\n",
       "      <td>{\"gameId\":4224299083,\"platformId\":\"KR\",\"gameCr...</td>\n",
       "    </tr>\n",
       "    <tr>\n",
       "      <th>3</th>\n",
       "      <td>3</td>\n",
       "      <td>4224292080</td>\n",
       "      <td>{\"gameId\":4224292080,\"platformId\":\"KR\",\"gameCr...</td>\n",
       "    </tr>\n",
       "    <tr>\n",
       "      <th>4</th>\n",
       "      <td>4</td>\n",
       "      <td>4222953957</td>\n",
       "      <td>{\"gameId\":4222953957,\"platformId\":\"KR\",\"gameCr...</td>\n",
       "    </tr>\n",
       "    <tr>\n",
       "      <th>...</th>\n",
       "      <td>...</td>\n",
       "      <td>...</td>\n",
       "      <td>...</td>\n",
       "    </tr>\n",
       "    <tr>\n",
       "      <th>1994</th>\n",
       "      <td>1994</td>\n",
       "      <td>4228822566</td>\n",
       "      <td>{\"gameId\":4228822566,\"platformId\":\"KR\",\"gameCr...</td>\n",
       "    </tr>\n",
       "    <tr>\n",
       "      <th>1995</th>\n",
       "      <td>1995</td>\n",
       "      <td>4226414661</td>\n",
       "      <td>{\"gameId\":4226414661,\"platformId\":\"KR\",\"gameCr...</td>\n",
       "    </tr>\n",
       "    <tr>\n",
       "      <th>1996</th>\n",
       "      <td>1996</td>\n",
       "      <td>4224274716</td>\n",
       "      <td>{\"gameId\":4224274716,\"platformId\":\"KR\",\"gameCr...</td>\n",
       "    </tr>\n",
       "    <tr>\n",
       "      <th>1997</th>\n",
       "      <td>1997</td>\n",
       "      <td>4224196023</td>\n",
       "      <td>{\"gameId\":4224196023,\"platformId\":\"KR\",\"gameCr...</td>\n",
       "    </tr>\n",
       "    <tr>\n",
       "      <th>1998</th>\n",
       "      <td>1998</td>\n",
       "      <td>4224147107</td>\n",
       "      <td>{\"gameId\":4224147107,\"platformId\":\"KR\",\"gameCr...</td>\n",
       "    </tr>\n",
       "  </tbody>\n",
       "</table>\n",
       "<p>1999 rows × 3 columns</p>\n",
       "</div>"
      ],
      "text/plain": [
       "      Unnamed: 0     game_id  \\\n",
       "0              0  4225086418   \n",
       "1              1  4224499502   \n",
       "2              2  4224299083   \n",
       "3              3  4224292080   \n",
       "4              4  4222953957   \n",
       "...          ...         ...   \n",
       "1994        1994  4228822566   \n",
       "1995        1995  4226414661   \n",
       "1996        1996  4224274716   \n",
       "1997        1997  4224196023   \n",
       "1998        1998  4224147107   \n",
       "\n",
       "                                                   data  \n",
       "0     {\"gameId\":4225086418,\"platformId\":\"KR\",\"gameCr...  \n",
       "1     {\"gameId\":4224499502,\"platformId\":\"KR\",\"gameCr...  \n",
       "2     {\"gameId\":4224299083,\"platformId\":\"KR\",\"gameCr...  \n",
       "3     {\"gameId\":4224292080,\"platformId\":\"KR\",\"gameCr...  \n",
       "4     {\"gameId\":4222953957,\"platformId\":\"KR\",\"gameCr...  \n",
       "...                                                 ...  \n",
       "1994  {\"gameId\":4228822566,\"platformId\":\"KR\",\"gameCr...  \n",
       "1995  {\"gameId\":4226414661,\"platformId\":\"KR\",\"gameCr...  \n",
       "1996  {\"gameId\":4224274716,\"platformId\":\"KR\",\"gameCr...  \n",
       "1997  {\"gameId\":4224196023,\"platformId\":\"KR\",\"gameCr...  \n",
       "1998  {\"gameId\":4224147107,\"platformId\":\"KR\",\"gameCr...  \n",
       "\n",
       "[1999 rows x 3 columns]"
      ]
     },
     "execution_count": 34,
     "metadata": {},
     "output_type": "execute_result"
    }
   ],
   "source": [
    "df = pd.read_csv(\"all_games9-10.csv\")\n",
    "df"
   ]
  },
  {
   "cell_type": "code",
   "execution_count": 35,
   "metadata": {},
   "outputs": [],
   "source": [
    "game_data = df[\"data\"]"
   ]
  },
  {
   "cell_type": "code",
   "execution_count": 37,
   "metadata": {},
   "outputs": [
    {
     "data": {
      "text/plain": [
       "0       {\"gameId\":4225086418,\"platformId\":\"KR\",\"gameCr...\n",
       "1       {\"gameId\":4224499502,\"platformId\":\"KR\",\"gameCr...\n",
       "2       {\"gameId\":4224299083,\"platformId\":\"KR\",\"gameCr...\n",
       "3       {\"gameId\":4224292080,\"platformId\":\"KR\",\"gameCr...\n",
       "4       {\"gameId\":4222953957,\"platformId\":\"KR\",\"gameCr...\n",
       "                              ...                        \n",
       "1994    {\"gameId\":4228822566,\"platformId\":\"KR\",\"gameCr...\n",
       "1995    {\"gameId\":4226414661,\"platformId\":\"KR\",\"gameCr...\n",
       "1996    {\"gameId\":4224274716,\"platformId\":\"KR\",\"gameCr...\n",
       "1997    {\"gameId\":4224196023,\"platformId\":\"KR\",\"gameCr...\n",
       "1998    {\"gameId\":4224147107,\"platformId\":\"KR\",\"gameCr...\n",
       "Name: data, Length: 1999, dtype: object"
      ]
     },
     "execution_count": 37,
     "metadata": {},
     "output_type": "execute_result"
    }
   ],
   "source": [
    "game_data"
   ]
  },
  {
   "cell_type": "code",
   "execution_count": 45,
   "metadata": {},
   "outputs": [],
   "source": [
    "dumped_games = open('all_games_dumped.csv', 'w')"
   ]
  },
  {
   "cell_type": "code",
   "execution_count": 46,
   "metadata": {},
   "outputs": [],
   "source": [
    "csv_writer = csv.writer(dumped_games)"
   ]
  },
  {
   "cell_type": "code",
   "execution_count": 47,
   "metadata": {},
   "outputs": [
    {
     "data": {
      "text/plain": [
       "126"
      ]
     },
     "execution_count": 47,
     "metadata": {},
     "output_type": "execute_result"
    }
   ],
   "source": [
    "header=(\"championid1\",\"championid2\",\"championid3\",\"championid4\",\"championid5\",\"championid6\",\"championid7\",\"championid8\",\"championid9\",\"championid10\",\"t1W\")\n",
    "csv_writer.writerow(header)"
   ]
  },
  {
   "cell_type": "code",
   "execution_count": 48,
   "metadata": {},
   "outputs": [],
   "source": [
    "\n",
    "for i in range(1999):\n",
    "    game = json.loads(game_data[i])\n",
    "    data_list=[]\n",
    "    for a in range(0,10):\n",
    "        json.dumps(game['participants'])\n",
    "        \n",
    "        championids=game['participants'][a]['championId']\n",
    "        \n",
    "        data_list.append(championids)\n",
    "        \n",
    "    win=game['participants'][0]['stats']['win'] \n",
    "    data_list.append(win)\n",
    "    csv_writer.writerow(data_list)\n"
   ]
  },
  {
   "cell_type": "code",
   "execution_count": 49,
   "metadata": {},
   "outputs": [],
   "source": [
    "dumped_games.close()"
   ]
  },
  {
   "cell_type": "code",
   "execution_count": 50,
   "metadata": {},
   "outputs": [
    {
     "data": {
      "text/plain": [
       "{'teamId': 200,\n",
       " 'win': 'Fail',\n",
       " 'firstBlood': True,\n",
       " 'firstTower': False,\n",
       " 'firstInhibitor': False,\n",
       " 'firstBaron': False,\n",
       " 'firstDragon': True,\n",
       " 'firstRiftHerald': True,\n",
       " 'towerKills': 0,\n",
       " 'inhibitorKills': 0,\n",
       " 'baronKills': 0,\n",
       " 'dragonKills': 1,\n",
       " 'vilemawKills': 0,\n",
       " 'riftHeraldKills': 1,\n",
       " 'dominionVictoryScore': 0,\n",
       " 'bans': [{'championId': -1, 'pickTurn': 6},\n",
       "  {'championId': 89, 'pickTurn': 7},\n",
       "  {'championId': 40, 'pickTurn': 8},\n",
       "  {'championId': 7, 'pickTurn': 9},\n",
       "  {'championId': 122, 'pickTurn': 10}]}"
      ]
     },
     "execution_count": 50,
     "metadata": {},
     "output_type": "execute_result"
    }
   ],
   "source": [
    "game['teams'][1]"
   ]
  },
  {
   "cell_type": "code",
   "execution_count": 280,
   "metadata": {},
   "outputs": [
    {
     "ename": "TypeError",
     "evalue": "string indices must be integers",
     "output_type": "error",
     "traceback": [
      "\u001b[1;31m---------------------------------------------------------------------------\u001b[0m",
      "\u001b[1;31mTypeError\u001b[0m                                 Traceback (most recent call last)",
      "\u001b[1;32m<ipython-input-280-e37e5d1beb20>\u001b[0m in \u001b[0;36m<module>\u001b[1;34m\u001b[0m\n\u001b[0;32m      1\u001b[0m \u001b[1;32mfor\u001b[0m \u001b[0mperson\u001b[0m \u001b[1;32min\u001b[0m \u001b[0mgame\u001b[0m\u001b[1;33m[\u001b[0m\u001b[1;34m'participants'\u001b[0m\u001b[1;33m]\u001b[0m\u001b[1;33m:\u001b[0m\u001b[1;33m\u001b[0m\u001b[1;33m\u001b[0m\u001b[0m\n\u001b[1;32m----> 2\u001b[1;33m     \u001b[0mprint\u001b[0m \u001b[1;33m(\u001b[0m\u001b[0mgame\u001b[0m\u001b[1;33m[\u001b[0m\u001b[1;34m'participants'\u001b[0m\u001b[1;33m[\u001b[0m\u001b[1;34m'participantId'\u001b[0m\u001b[1;33m]\u001b[0m\u001b[1;33m]\u001b[0m\u001b[1;33m)\u001b[0m\u001b[1;33m\u001b[0m\u001b[1;33m\u001b[0m\u001b[0m\n\u001b[0m",
      "\u001b[1;31mTypeError\u001b[0m: string indices must be integers"
     ]
    }
   ],
   "source": [
    "for person in game['participants']:\n",
    "    print (game['participants'['participantId']])"
   ]
  },
  {
   "cell_type": "code",
   "execution_count": 8,
   "metadata": {},
   "outputs": [
    {
     "data": {
      "text/plain": [
       "dict_keys(['gameId', 'platformId', 'gameCreation', 'gameDuration', 'queueId', 'mapId', 'seasonId', 'gameVersion', 'gameMode', 'gameType', 'teams', 'participants', 'participantIdentities'])"
      ]
     },
     "execution_count": 8,
     "metadata": {},
     "output_type": "execute_result"
    }
   ],
   "source": [
    "game.keys()"
   ]
  },
  {
   "cell_type": "code",
   "execution_count": 305,
   "metadata": {},
   "outputs": [
    {
     "name": "stdout",
     "output_type": "stream",
     "text": [
      "[{\"participantId\": 1, \"teamId\": 100, \"championId\": 111, \"spell1Id\": 14, \"spell2Id\": 4, \"stats\": {\"participantId\": 1, \"win\": false, \"item0\": 3860, \"item1\": 3050, \"item2\": 3193, \"item3\": 3117, \"item4\": 1028, \"item5\": 2055, \"item6\": 3364, \"kills\": 1, \"deaths\": 10, \"assists\": 17, \"largestKillingSpree\": 0, \"largestMultiKill\": 1, \"killingSprees\": 0, \"longestTimeSpentLiving\": 311, \"doubleKills\": 0, \"tripleKills\": 0, \"quadraKills\": 0, \"pentaKills\": 0, \"unrealKills\": 0, \"totalDamageDealt\": 31818, \"magicDamageDealt\": 19106, \"physicalDamageDealt\": 8094, \"trueDamageDealt\": 4618, \"largestCriticalStrike\": 0, \"totalDamageDealtToChampions\": 13603, \"magicDamageDealtToChampions\": 9396, \"physicalDamageDealtToChampions\": 3002, \"trueDamageDealtToChampions\": 1204, \"totalHeal\": 1066, \"totalUnitsHealed\": 1, \"damageSelfMitigated\": 43973, \"damageDealtToObjectives\": 1097, \"damageDealtToTurrets\": 854, \"visionScore\": 57, \"timeCCingOthers\": 72, \"totalDamageTaken\": 24360, \"magicalDamageTaken\": 14127, \"physicalDamageTaken\": 9530, \"trueDamageTaken\": 702, \"goldEarned\": 7847, \"goldSpent\": 7375, \"turretKills\": 0, \"inhibitorKills\": 0, \"totalMinionsKilled\": 29, \"neutralMinionsKilled\": 0, \"neutralMinionsKilledTeamJungle\": 0, \"neutralMinionsKilledEnemyJungle\": 0, \"totalTimeCrowdControlDealt\": 349, \"champLevel\": 14, \"visionWardsBoughtInGame\": 5, \"sightWardsBoughtInGame\": 0, \"wardsPlaced\": 29, \"wardsKilled\": 6, \"firstBloodKill\": false, \"firstBloodAssist\": false, \"firstTowerKill\": false, \"firstTowerAssist\": false, \"firstInhibitorKill\": false, \"firstInhibitorAssist\": false, \"combatPlayerScore\": 0, \"objectivePlayerScore\": 0, \"totalPlayerScore\": 0, \"totalScoreRank\": 0, \"playerScore0\": 0, \"playerScore1\": 0, \"playerScore2\": 0, \"playerScore3\": 0, \"playerScore4\": 0, \"playerScore5\": 0, \"playerScore6\": 0, \"playerScore7\": 0, \"playerScore8\": 0, \"playerScore9\": 0, \"perk0\": 8439, \"perk0Var1\": 744, \"perk0Var2\": 0, \"perk0Var3\": 0, \"perk1\": 8401, \"perk1Var1\": 561, \"perk1Var2\": 0, \"perk1Var3\": 0, \"perk2\": 8473, \"perk2Var1\": 857, \"perk2Var2\": 0, \"perk2Var3\": 0, \"perk3\": 8451, \"perk3Var1\": 159, \"perk3Var2\": 0, \"perk3Var3\": 0, \"perk4\": 8347, \"perk4Var1\": 0, \"perk4Var2\": 0, \"perk4Var3\": 0, \"perk5\": 8345, \"perk5Var1\": 3, \"perk5Var2\": 0, \"perk5Var3\": 0, \"perkPrimaryStyle\": 8400, \"perkSubStyle\": 8300, \"statPerk0\": 5008, \"statPerk1\": 5002, \"statPerk2\": 5003}, \"timeline\": {\"participantId\": 1, \"creepsPerMinDeltas\": {\"10-20\": 1.2, \"0-10\": 1, \"20-30\": 0.6000000000000001}, \"xpPerMinDeltas\": {\"10-20\": 381.5, \"0-10\": 239.3, \"20-30\": 470.79999999999995}, \"goldPerMinDeltas\": {\"10-20\": 291, \"0-10\": 186.5, \"20-30\": 221.10000000000002}, \"csDiffPerMinDeltas\": {\"10-20\": 1.4500000000000004, \"0-10\": 0.75, \"20-30\": 2.8000000000000003}, \"xpDiffPerMinDeltas\": {\"10-20\": -27.24999999999997, \"0-10\": -2.899999999999949, \"20-30\": -33.55000000000001}, \"damageTakenPerMinDeltas\": {\"10-20\": 637.9000000000001, \"0-10\": 440.4, \"20-30\": 1009.1999999999999}, \"damageTakenDiffPerMinDeltas\": {\"10-20\": -78.24999999999997, \"0-10\": 17.15000000000002, \"20-30\": 289.34999999999985}, \"role\": \"DUO_SUPPORT\", \"lane\": \"BOTTOM\"}}, {\"participantId\": 2, \"teamId\": 100, \"championId\": 91, \"spell1Id\": 4, \"spell2Id\": 14, \"stats\": {\"participantId\": 2, \"win\": false, \"item0\": 3142, \"item1\": 3077, \"item2\": 3814, \"item3\": 3067, \"item4\": 3117, \"item5\": 3147, \"item6\": 3364, \"kills\": 7, \"deaths\": 7, \"assists\": 7, \"largestKillingSpree\": 4, \"largestMultiKill\": 2, \"killingSprees\": 2, \"longestTimeSpentLiving\": 961, \"doubleKills\": 1, \"tripleKills\": 0, \"quadraKills\": 0, \"pentaKills\": 0, \"unrealKills\": 0, \"totalDamageDealt\": 143853, \"magicDamageDealt\": 0, \"physicalDamageDealt\": 142399, \"trueDamageDealt\": 1454, \"largestCriticalStrike\": 587, \"totalDamageDealtToChampions\": 18794, \"magicDamageDealtToChampions\": 0, \"physicalDamageDealtToChampions\": 18030, \"trueDamageDealtToChampions\": 764, \"totalHeal\": 5035, \"totalUnitsHealed\": 1, \"damageSelfMitigated\": 13961, \"damageDealtToObjectives\": 11588, \"damageDealtToTurrets\": 5225, \"visionScore\": 23, \"timeCCingOthers\": 5, \"totalDamageTaken\": 28003, \"magicalDamageTaken\": 10435, \"physicalDamageTaken\": 16892, \"trueDamageTaken\": 674, \"goldEarned\": 12985, \"goldSpent\": 12700, \"turretKills\": 3, \"inhibitorKills\": 0, \"totalMinionsKilled\": 192, \"neutralMinionsKilled\": 16, \"neutralMinionsKilledTeamJungle\": 4, \"neutralMinionsKilledEnemyJungle\": 8, \"totalTimeCrowdControlDealt\": 160, \"champLevel\": 15, \"visionWardsBoughtInGame\": 3, \"sightWardsBoughtInGame\": 0, \"wardsPlaced\": 5, \"wardsKilled\": 4, \"firstBloodKill\": false, \"firstBloodAssist\": false, \"firstTowerKill\": false, \"firstTowerAssist\": false, \"firstInhibitorKill\": false, \"firstInhibitorAssist\": false, \"combatPlayerScore\": 0, \"objectivePlayerScore\": 0, \"totalPlayerScore\": 0, \"totalScoreRank\": 0, \"playerScore0\": 0, \"playerScore1\": 0, \"playerScore2\": 0, \"playerScore3\": 0, \"playerScore4\": 0, \"playerScore5\": 0, \"playerScore6\": 0, \"playerScore7\": 0, \"playerScore8\": 0, \"playerScore9\": 0, \"perk0\": 8010, \"perk0Var1\": 735, \"perk0Var2\": 0, \"perk0Var3\": 0, \"perk1\": 9111, \"perk1Var1\": 722, \"perk1Var2\": 280, \"perk1Var3\": 0, \"perk2\": 9105, \"perk2Var1\": 13, \"perk2Var2\": 30, \"perk2Var3\": 0, \"perk3\": 8014, \"perk3Var1\": 451, \"perk3Var2\": 0, \"perk3Var3\": 0, \"perk4\": 8139, \"perk4Var1\": 1150, \"perk4Var2\": 0, \"perk4Var3\": 0, \"perk5\": 8105, \"perk5Var1\": 16, \"perk5Var2\": 5, \"perk5Var3\": 0, \"perkPrimaryStyle\": 8000, \"perkSubStyle\": 8100, \"statPerk0\": 5008, \"statPerk1\": 5008, \"statPerk2\": 5003}, \"timeline\": {\"participantId\": 2, \"creepsPerMinDeltas\": {\"10-20\": 5.9, \"0-10\": 6.9, \"20-30\": 4.9}, \"xpPerMinDeltas\": {\"10-20\": 440.9, \"0-10\": 399.5, \"20-30\": 510.6}, \"goldPerMinDeltas\": {\"10-20\": 466, \"0-10\": 314.5, \"20-30\": 404.1}, \"csDiffPerMinDeltas\": {\"10-20\": -1.2999999999999998, \"0-10\": -1.2999999999999998, \"20-30\": -4.440892098500626e-16}, \"xpDiffPerMinDeltas\": {\"10-20\": -43, \"0-10\": -50.599999999999994, \"20-30\": -144.69999999999996}, \"damageTakenPerMinDeltas\": {\"10-20\": 827.8, \"0-10\": 349.9, \"20-30\": 1301.6}, \"damageTakenDiffPerMinDeltas\": {\"10-20\": -25.60000000000005, \"0-10\": 81.09999999999997, \"20-30\": -50.59999999999991}, \"role\": \"SOLO\", \"lane\": \"MIDDLE\"}}, {\"participantId\": 3, \"teamId\": 100, \"championId\": 236, \"spell1Id\": 7, \"spell2Id\": 4, \"stats\": {\"participantId\": 3, \"win\": false, \"item0\": 3006, \"item1\": 3508, \"item2\": 3153, \"item3\": 3140, \"item4\": 3031, \"item5\": 3086, \"item6\": 3363, \"kills\": 11, \"deaths\": 6, \"assists\": 7, \"largestKillingSpree\": 5, \"largestMultiKill\": 2, \"killingSprees\": 2, \"longestTimeSpentLiving\": 482, \"doubleKills\": 2, \"tripleKills\": 0, \"quadraKills\": 0, \"pentaKills\": 0, \"unrealKills\": 0, \"totalDamageDealt\": 213333, \"magicDamageDealt\": 3603, \"physicalDamageDealt\": 186681, \"trueDamageDealt\": 23049, \"largestCriticalStrike\": 676, \"totalDamageDealtToChampions\": 28035, \"magicDamageDealtToChampions\": 2180, \"physicalDamageDealtToChampions\": 25781, \"trueDamageDealtToChampions\": 74, \"totalHeal\": 3796, \"totalUnitsHealed\": 3, \"damageSelfMitigated\": 9070, \"damageDealtToObjectives\": 10919, \"damageDealtToTurrets\": 4016, \"visionScore\": 42, \"timeCCingOthers\": 1, \"totalDamageTaken\": 24377, \"magicalDamageTaken\": 12153, \"physicalDamageTaken\": 11223, \"trueDamageTaken\": 1000, \"goldEarned\": 15743, \"goldSpent\": 14075, \"turretKills\": 0, \"inhibitorKills\": 0, \"totalMinionsKilled\": 214, \"neutralMinionsKilled\": 23, \"neutralMinionsKilledTeamJungle\": 13, \"neutralMinionsKilledEnemyJungle\": 3, \"totalTimeCrowdControlDealt\": 43, \"champLevel\": 16, \"visionWardsBoughtInGame\": 1, \"sightWardsBoughtInGame\": 0, \"wardsPlaced\": 9, \"wardsKilled\": 2, \"firstBloodKill\": false, \"firstBloodAssist\": false, \"firstTowerKill\": false, \"firstTowerAssist\": false, \"firstInhibitorKill\": false, \"firstInhibitorAssist\": false, \"combatPlayerScore\": 0, \"objectivePlayerScore\": 0, \"totalPlayerScore\": 0, \"totalScoreRank\": 0, \"playerScore0\": 0, \"playerScore1\": 0, \"playerScore2\": 0, \"playerScore3\": 0, \"playerScore4\": 0, \"playerScore5\": 0, \"playerScore6\": 0, \"playerScore7\": 0, \"playerScore8\": 0, \"playerScore9\": 0, \"perk0\": 8005, \"perk0Var1\": 1675, \"perk0Var2\": 925, \"perk0Var3\": 750, \"perk1\": 9111, \"perk1Var1\": 931, \"perk1Var2\": 360, \"perk1Var3\": 0, \"perk2\": 9104, \"perk2Var1\": 15, \"perk2Var2\": 0, \"perk2Var3\": 0, \"perk3\": 8014, \"perk3Var1\": 743, \"perk3Var2\": 0, \"perk3Var3\": 0, \"perk4\": 8304, \"perk4Var1\": 9, \"perk4Var2\": 4, \"perk4Var3\": 5, \"perk5\": 8345, \"perk5Var1\": 3, \"perk5Var2\": 0, \"perk5Var3\": 0, \"perkPrimaryStyle\": 8000, \"perkSubStyle\": 8300, \"statPerk0\": 5005, \"statPerk1\": 5008, \"statPerk2\": 5001}, \"timeline\": {\"participantId\": 3, \"creepsPerMinDeltas\": {\"10-20\": 7.9, \"0-10\": 6.5, \"20-30\": 6.9}, \"xpPerMinDeltas\": {\"10-20\": 459.7, \"0-10\": 338.3, \"20-30\": 620.2}, \"goldPerMinDeltas\": {\"10-20\": 543.1, \"0-10\": 353.5, \"20-30\": 580.6}, \"csDiffPerMinDeltas\": {\"10-20\": 1.4500000000000004, \"0-10\": 0.75, \"20-30\": 2.8000000000000003}, \"xpDiffPerMinDeltas\": {\"10-20\": -27.24999999999997, \"0-10\": -2.899999999999949, \"20-30\": -33.55000000000001}, \"damageTakenPerMinDeltas\": {\"10-20\": 542.4, \"0-10\": 352.2, \"20-30\": 1285.4}, \"damageTakenDiffPerMinDeltas\": {\"10-20\": -78.24999999999997, \"0-10\": 17.15000000000002, \"20-30\": 289.34999999999985}, \"role\": \"DUO_CARRY\", \"lane\": \"BOTTOM\"}}, {\"participantId\": 4, \"teamId\": 100, \"championId\": 76, \"spell1Id\": 4, \"spell2Id\": 11, \"stats\": {\"participantId\": 4, \"win\": false, \"item0\": 1414, \"item1\": 3020, \"item2\": 1058, \"item3\": 3100, \"item4\": 3165, \"item5\": 1058, \"item6\": 3340, \"kills\": 11, \"deaths\": 12, \"assists\": 5, \"largestKillingSpree\": 4, \"largestMultiKill\": 2, \"killingSprees\": 3, \"longestTimeSpentLiving\": 307, \"doubleKills\": 1, \"tripleKills\": 0, \"quadraKills\": 0, \"pentaKills\": 0, \"unrealKills\": 0, \"totalDamageDealt\": 151508, \"magicDamageDealt\": 125028, \"physicalDamageDealt\": 18403, \"trueDamageDealt\": 8076, \"largestCriticalStrike\": 0, \"totalDamageDealtToChampions\": 25781, \"magicDamageDealtToChampions\": 23701, \"physicalDamageDealtToChampions\": 1248, \"trueDamageDealtToChampions\": 831, \"totalHeal\": 15091, \"totalUnitsHealed\": 3, \"damageSelfMitigated\": 15789, \"damageDealtToObjectives\": 17775, \"damageDealtToTurrets\": 2012, \"visionScore\": 24, \"timeCCingOthers\": 1, \"totalDamageTaken\": 36863, \"magicalDamageTaken\": 14565, \"physicalDamageTaken\": 21265, \"trueDamageTaken\": 1032, \"goldEarned\": 13329, \"goldSpent\": 12675, \"turretKills\": 1, \"inhibitorKills\": 0, \"totalMinionsKilled\": 27, \"neutralMinionsKilled\": 118, \"neutralMinionsKilledTeamJungle\": 92, \"neutralMinionsKilledEnemyJungle\": 0, \"totalTimeCrowdControlDealt\": 32, \"champLevel\": 14, \"visionWardsBoughtInGame\": 3, \"sightWardsBoughtInGame\": 0, \"wardsPlaced\": 13, \"wardsKilled\": 4, \"firstBloodKill\": true, \"firstBloodAssist\": false, \"firstTowerKill\": false, \"firstTowerAssist\": false, \"firstInhibitorKill\": false, \"firstInhibitorAssist\": false, \"combatPlayerScore\": 0, \"objectivePlayerScore\": 0, \"totalPlayerScore\": 0, \"totalScoreRank\": 0, \"playerScore0\": 0, \"playerScore1\": 0, \"playerScore2\": 0, \"playerScore3\": 0, \"playerScore4\": 0, \"playerScore5\": 0, \"playerScore6\": 0, \"playerScore7\": 0, \"playerScore8\": 0, \"playerScore9\": 0, \"perk0\": 8128, \"perk0Var1\": 1796, \"perk0Var2\": 19, \"perk0Var3\": 576, \"perk1\": 8143, \"perk1Var1\": 654, \"perk1Var2\": 0, \"perk1Var3\": 0, \"perk2\": 8138, \"perk2Var1\": 30, \"perk2Var2\": 0, \"perk2Var3\": 0, \"perk3\": 8135, \"perk3Var1\": 4661, \"perk3Var2\": 5, \"perk3Var3\": 0, \"perk4\": 8236, \"perk4Var1\": 48, \"perk4Var2\": 0, \"perk4Var3\": 0, \"perk5\": 8210, \"perk5Var1\": 0, \"perk5Var2\": 0, \"perk5Var3\": 0, \"perkPrimaryStyle\": 8100, \"perkSubStyle\": 8200, \"statPerk0\": 5005, \"statPerk1\": 5008, \"statPerk2\": 5002}, \"timeline\": {\"participantId\": 4, \"creepsPerMinDeltas\": {\"10-20\": 1.6, \"0-10\": 0.4, \"20-30\": 0.5}, \"xpPerMinDeltas\": {\"10-20\": 435.6, \"0-10\": 332.6, \"20-30\": 444.1}, \"goldPerMinDeltas\": {\"10-20\": 445, \"0-10\": 332, \"20-30\": 458.7}, \"csDiffPerMinDeltas\": {\"10-20\": 0.9, \"0-10\": -0.4, \"20-30\": -1.2}, \"xpDiffPerMinDeltas\": {\"10-20\": -95.99999999999997, \"0-10\": -11.199999999999989, \"20-30\": -84.09999999999997}, \"damageTakenPerMinDeltas\": {\"10-20\": 1192.6, \"0-10\": 700.4, \"20-30\": 1567.9}, \"damageTakenDiffPerMinDeltas\": {\"10-20\": 54.099999999999966, \"0-10\": 26.700000000000017, \"20-30\": 211.69999999999993}, \"role\": \"NONE\", \"lane\": \"JUNGLE\"}}, {\"participantId\": 5, \"teamId\": 100, \"championId\": 54, \"spell1Id\": 12, \"spell2Id\": 4, \"stats\": {\"participantId\": 5, \"win\": false, \"item0\": 2033, \"item1\": 3108, \"item2\": 3001, \"item3\": 3111, \"item4\": 1026, \"item5\": 3068, \"item6\": 3340, \"kills\": 4, \"deaths\": 8, \"assists\": 15, \"largestKillingSpree\": 2, \"largestMultiKill\": 1, \"killingSprees\": 1, \"longestTimeSpentLiving\": 562, \"doubleKills\": 0, \"tripleKills\": 0, \"quadraKills\": 0, \"pentaKills\": 0, \"unrealKills\": 0, \"totalDamageDealt\": 80310, \"magicDamageDealt\": 54748, \"physicalDamageDealt\": 25562, \"trueDamageDealt\": 0, \"largestCriticalStrike\": 0, \"totalDamageDealtToChampions\": 21470, \"magicDamageDealtToChampions\": 16125, \"physicalDamageDealtToChampions\": 5345, \"trueDamageDealtToChampions\": 0, \"totalHeal\": 2930, \"totalUnitsHealed\": 1, \"damageSelfMitigated\": 42786, \"damageDealtToObjectives\": 1804, \"damageDealtToTurrets\": 644, \"visionScore\": 28, \"timeCCingOthers\": 34, \"totalDamageTaken\": 29802, \"magicalDamageTaken\": 14965, \"physicalDamageTaken\": 13179, \"trueDamageTaken\": 1657, \"goldEarned\": 9765, \"goldSpent\": 9250, \"turretKills\": 0, \"inhibitorKills\": 0, \"totalMinionsKilled\": 104, \"neutralMinionsKilled\": 4, \"neutralMinionsKilledTeamJungle\": 0, \"neutralMinionsKilledEnemyJungle\": 4, \"totalTimeCrowdControlDealt\": 582, \"champLevel\": 15, \"visionWardsBoughtInGame\": 2, \"sightWardsBoughtInGame\": 0, \"wardsPlaced\": 12, \"wardsKilled\": 3, \"firstBloodKill\": false, \"firstBloodAssist\": false, \"firstTowerKill\": false, \"firstTowerAssist\": false, \"firstInhibitorKill\": false, \"firstInhibitorAssist\": false, \"combatPlayerScore\": 0, \"objectivePlayerScore\": 0, \"totalPlayerScore\": 0, \"totalScoreRank\": 0, \"playerScore0\": 0, \"playerScore1\": 0, \"playerScore2\": 0, \"playerScore3\": 0, \"playerScore4\": 0, \"playerScore5\": 0, \"playerScore6\": 0, \"playerScore7\": 0, \"playerScore8\": 0, \"playerScore9\": 0, \"perk0\": 8229, \"perk0Var1\": 1272, \"perk0Var2\": 0, \"perk0Var3\": 0, \"perk1\": 8226, \"perk1Var1\": 250, \"perk1Var2\": 420, \"perk1Var3\": 0, \"perk2\": 8234, \"perk2Var1\": 8572, \"perk2Var2\": 0, \"perk2Var3\": 0, \"perk3\": 8236, \"perk3Var1\": 48, \"perk3Var2\": 0, \"perk3Var3\": 0, \"perk4\": 8473, \"perk4Var1\": 690, \"perk4Var2\": 0, \"perk4Var3\": 0, \"perk5\": 8451, \"perk5Var1\": 172, \"perk5Var2\": 0, \"perk5Var3\": 0, \"perkPrimaryStyle\": 8200, \"perkSubStyle\": 8400, \"statPerk0\": 5005, \"statPerk1\": 5008, \"statPerk2\": 5003}, \"timeline\": {\"participantId\": 5, \"creepsPerMinDeltas\": {\"10-20\": 3.1, \"0-10\": 4.7, \"20-30\": 2.6}, \"xpPerMinDeltas\": {\"10-20\": 339, \"0-10\": 394.2, \"20-30\": 555.3}, \"goldPerMinDeltas\": {\"10-20\": 264, \"0-10\": 284.5, \"20-30\": 324.5}, \"csDiffPerMinDeltas\": {\"10-20\": -0.9000000000000001, \"0-10\": 0, \"20-30\": -1}, \"xpDiffPerMinDeltas\": {\"10-20\": -140.5, \"0-10\": 66.79999999999998, \"20-30\": -64.4}, \"damageTakenPerMinDeltas\": {\"10-20\": 905, \"0-10\": 522.3, \"20-30\": 1253.1}, \"damageTakenDiffPerMinDeltas\": {\"10-20\": 37.60000000000002, \"0-10\": -179.70000000000002, \"20-30\": -149.7}, \"role\": \"SOLO\", \"lane\": \"TOP\"}}, {\"participantId\": 6, \"teamId\": 200, \"championId\": 26, \"spell1Id\": 4, \"spell2Id\": 7, \"stats\": {\"participantId\": 6, \"win\": true, \"item0\": 3285, \"item1\": 3020, \"item2\": 1056, \"item3\": 3165, \"item4\": 1058, \"item5\": 1058, \"item6\": 3340, \"kills\": 6, \"deaths\": 10, \"assists\": 23, \"largestKillingSpree\": 2, \"largestMultiKill\": 1, \"killingSprees\": 2, \"longestTimeSpentLiving\": 480, \"doubleKills\": 0, \"tripleKills\": 0, \"quadraKills\": 0, \"pentaKills\": 0, \"unrealKills\": 0, \"totalDamageDealt\": 81692, \"magicDamageDealt\": 74144, \"physicalDamageDealt\": 6533, \"trueDamageDealt\": 1014, \"largestCriticalStrike\": 0, \"totalDamageDealtToChampions\": 15026, \"magicDamageDealtToChampions\": 13854, \"physicalDamageDealtToChampions\": 1171, \"trueDamageDealtToChampions\": 0, \"totalHeal\": 9727, \"totalUnitsHealed\": 4, \"damageSelfMitigated\": 8228, \"damageDealtToObjectives\": 1700, \"damageDealtToTurrets\": 1700, \"visionScore\": 15, \"timeCCingOthers\": 23, \"totalDamageTaken\": 23428, \"magicalDamageTaken\": 11067, \"physicalDamageTaken\": 11514, \"trueDamageTaken\": 846, \"goldEarned\": 11408, \"goldSpent\": 10775, \"turretKills\": 0, \"inhibitorKills\": 1, \"totalMinionsKilled\": 113, \"neutralMinionsKilled\": 1, \"neutralMinionsKilledTeamJungle\": 0, \"neutralMinionsKilledEnemyJungle\": 1, \"totalTimeCrowdControlDealt\": 218, \"champLevel\": 15, \"visionWardsBoughtInGame\": 1, \"sightWardsBoughtInGame\": 0, \"wardsPlaced\": 10, \"wardsKilled\": 1, \"firstBloodKill\": false, \"firstBloodAssist\": false, \"firstTowerKill\": false, \"firstTowerAssist\": true, \"firstInhibitorKill\": true, \"firstInhibitorAssist\": false, \"combatPlayerScore\": 0, \"objectivePlayerScore\": 0, \"totalPlayerScore\": 0, \"totalScoreRank\": 0, \"playerScore0\": 0, \"playerScore1\": 0, \"playerScore2\": 0, \"playerScore3\": 0, \"playerScore4\": 0, \"playerScore5\": 0, \"playerScore6\": 0, \"playerScore7\": 0, \"playerScore8\": 0, \"playerScore9\": 0, \"perk0\": 8214, \"perk0Var1\": 1254, \"perk0Var2\": 1245, \"perk0Var3\": 0, \"perk1\": 8226, \"perk1Var1\": 250, \"perk1Var2\": 1209, \"perk1Var3\": 0, \"perk2\": 8233, \"perk2Var1\": 17, \"perk2Var2\": 30, \"perk2Var3\": 0, \"perk3\": 8237, \"perk3Var1\": 460, \"perk3Var2\": 0, \"perk3Var3\": 0, \"perk4\": 8316, \"perk4Var1\": 1887, \"perk4Var2\": 0, \"perk4Var3\": 0, \"perk5\": 8347, \"perk5Var1\": 0, \"perk5Var2\": 0, \"perk5Var3\": 0, \"perkPrimaryStyle\": 8200, \"perkSubStyle\": 8300, \"statPerk0\": 5008, \"statPerk1\": 5008, \"statPerk2\": 5002}, \"timeline\": {\"participantId\": 6, \"creepsPerMinDeltas\": {\"10-20\": 4, \"0-10\": 5.7, \"20-30\": 1.2}, \"xpPerMinDeltas\": {\"10-20\": 439.5, \"0-10\": 305.5, \"20-30\": 572.7}, \"goldPerMinDeltas\": {\"10-20\": 417.1, \"0-10\": 279.8, \"20-30\": 344.8}, \"csDiffPerMinDeltas\": {\"10-20\": -1.4500000000000004, \"0-10\": -0.75, \"20-30\": -2.8000000000000003}, \"xpDiffPerMinDeltas\": {\"10-20\": 27.24999999999997, \"0-10\": 2.899999999999949, \"20-30\": 33.55000000000001}, \"damageTakenPerMinDeltas\": {\"10-20\": 773.2, \"0-10\": 344.2, \"20-30\": 971.7}, \"damageTakenDiffPerMinDeltas\": {\"10-20\": 78.24999999999997, \"0-10\": -17.15000000000002, \"20-30\": -289.34999999999985}, \"role\": \"DUO_CARRY\", \"lane\": \"BOTTOM\"}}, {\"participantId\": 7, \"teamId\": 200, \"championId\": 235, \"spell1Id\": 4, \"spell2Id\": 3, \"stats\": {\"participantId\": 7, \"win\": true, \"item0\": 3179, \"item1\": 3864, \"item2\": 3814, \"item3\": 3142, \"item4\": 3026, \"item5\": 3009, \"item6\": 3364, \"kills\": 11, \"deaths\": 5, \"assists\": 23, \"largestKillingSpree\": 6, \"largestMultiKill\": 2, \"killingSprees\": 3, \"longestTimeSpentLiving\": 524, \"doubleKills\": 2, \"tripleKills\": 0, \"quadraKills\": 0, \"pentaKills\": 0, \"unrealKills\": 0, \"totalDamageDealt\": 84577, \"magicDamageDealt\": 0, \"physicalDamageDealt\": 82430, \"trueDamageDealt\": 2147, \"largestCriticalStrike\": 562, \"totalDamageDealtToChampions\": 30210, \"magicDamageDealtToChampions\": 0, \"physicalDamageDealtToChampions\": 28520, \"trueDamageDealtToChampions\": 1690, \"totalHeal\": 10848, \"totalUnitsHealed\": 5, \"damageSelfMitigated\": 9947, \"damageDealtToObjectives\": 11550, \"damageDealtToTurrets\": 4400, \"visionScore\": 69, \"timeCCingOthers\": 61, \"totalDamageTaken\": 18869, \"magicalDamageTaken\": 7782, \"physicalDamageTaken\": 10702, \"trueDamageTaken\": 384, \"goldEarned\": 13639, \"goldSpent\": 12800, \"turretKills\": 3, \"inhibitorKills\": 0, \"totalMinionsKilled\": 39, \"neutralMinionsKilled\": 22, \"neutralMinionsKilledTeamJungle\": 20, \"neutralMinionsKilledEnemyJungle\": 0, \"totalTimeCrowdControlDealt\": 292, \"champLevel\": 15, \"visionWardsBoughtInGame\": 2, \"sightWardsBoughtInGame\": 0, \"wardsPlaced\": 32, \"wardsKilled\": 10, \"firstBloodKill\": false, \"firstBloodAssist\": false, \"firstTowerKill\": false, \"firstTowerAssist\": true, \"firstInhibitorKill\": false, \"firstInhibitorAssist\": false, \"combatPlayerScore\": 0, \"objectivePlayerScore\": 0, \"totalPlayerScore\": 0, \"totalScoreRank\": 0, \"playerScore0\": 0, \"playerScore1\": 0, \"playerScore2\": 0, \"playerScore3\": 0, \"playerScore4\": 0, \"playerScore5\": 0, \"playerScore6\": 0, \"playerScore7\": 0, \"playerScore8\": 0, \"playerScore9\": 0, \"perk0\": 8351, \"perk0Var1\": 66, \"perk0Var2\": 0, \"perk0Var3\": 0, \"perk1\": 8313, \"perk1Var1\": 0, \"perk1Var2\": 0, \"perk1Var3\": 0, \"perk2\": 8345, \"perk2Var1\": 3, \"perk2Var2\": 0, \"perk2Var3\": 0, \"perk3\": 8410, \"perk3Var1\": 129, \"perk3Var2\": 0, \"perk3Var3\": 0, \"perk4\": 8009, \"perk4Var1\": 3931, \"perk4Var2\": 500, \"perk4Var3\": 0, \"perk5\": 9103, \"perk5Var1\": 20, \"perk5Var2\": 0, \"perk5Var3\": 0, \"perkPrimaryStyle\": 8300, \"perkSubStyle\": 8000, \"statPerk0\": 5008, \"statPerk1\": 5008, \"statPerk2\": 5002}, \"timeline\": {\"participantId\": 7, \"creepsPerMinDeltas\": {\"10-20\": 2.2, \"0-10\": 0.3, \"20-30\": 0.7}, \"xpPerMinDeltas\": {\"10-20\": 456.2, \"0-10\": 277.9, \"20-30\": 585.4000000000001}, \"goldPerMinDeltas\": {\"10-20\": 504.09999999999997, \"0-10\": 270.79999999999995, \"20-30\": 445.7}, \"csDiffPerMinDeltas\": {\"10-20\": -1.4500000000000004, \"0-10\": -0.75, \"20-30\": -2.8000000000000003}, \"xpDiffPerMinDeltas\": {\"10-20\": 27.24999999999997, \"0-10\": 2.899999999999949, \"20-30\": 33.55000000000001}, \"damageTakenPerMinDeltas\": {\"10-20\": 563.6, \"0-10\": 414.1, \"20-30\": 744.2}, \"damageTakenDiffPerMinDeltas\": {\"10-20\": 78.24999999999997, \"0-10\": -17.15000000000002, \"20-30\": -289.34999999999985}, \"role\": \"DUO_SUPPORT\", \"lane\": \"BOTTOM\"}}, {\"participantId\": 8, \"teamId\": 200, \"championId\": 82, \"spell1Id\": 4, \"spell2Id\": 12, \"stats\": {\"participantId\": 8, \"win\": true, \"item0\": 3091, \"item1\": 3151, \"item2\": 3115, \"item3\": 1001, \"item4\": 3191, \"item5\": 2055, \"item6\": 3340, \"kills\": 9, \"deaths\": 8, \"assists\": 7, \"largestKillingSpree\": 2, \"largestMultiKill\": 2, \"killingSprees\": 4, \"longestTimeSpentLiving\": 590, \"doubleKills\": 2, \"tripleKills\": 0, \"quadraKills\": 0, \"pentaKills\": 0, \"unrealKills\": 0, \"totalDamageDealt\": 122102, \"magicDamageDealt\": 94441, \"physicalDamageDealt\": 23670, \"trueDamageDealt\": 3990, \"largestCriticalStrike\": 0, \"totalDamageDealtToChampions\": 21762, \"magicDamageDealtToChampions\": 16779, \"physicalDamageDealtToChampions\": 4983, \"trueDamageDealtToChampions\": 0, \"totalHeal\": 9784, \"totalUnitsHealed\": 1, \"damageSelfMitigated\": 35686, \"damageDealtToObjectives\": 17544, \"damageDealtToTurrets\": 4088, \"visionScore\": 17, \"timeCCingOthers\": 5, \"totalDamageTaken\": 32745, \"magicalDamageTaken\": 10573, \"physicalDamageTaken\": 21853, \"trueDamageTaken\": 318, \"goldEarned\": 12561, \"goldSpent\": 11255, \"turretKills\": 3, \"inhibitorKills\": 1, \"totalMinionsKilled\": 132, \"neutralMinionsKilled\": 9, \"neutralMinionsKilledTeamJungle\": 1, \"neutralMinionsKilledEnemyJungle\": 3, \"totalTimeCrowdControlDealt\": 39, \"champLevel\": 16, \"visionWardsBoughtInGame\": 1, \"sightWardsBoughtInGame\": 0, \"wardsPlaced\": 8, \"wardsKilled\": 3, \"firstBloodKill\": false, \"firstBloodAssist\": false, \"firstTowerKill\": true, \"firstTowerAssist\": false, \"firstInhibitorKill\": false, \"firstInhibitorAssist\": true, \"combatPlayerScore\": 0, \"objectivePlayerScore\": 0, \"totalPlayerScore\": 0, \"totalScoreRank\": 0, \"playerScore0\": 0, \"playerScore1\": 0, \"playerScore2\": 0, \"playerScore3\": 0, \"playerScore4\": 0, \"playerScore5\": 0, \"playerScore6\": 0, \"playerScore7\": 0, \"playerScore8\": 0, \"playerScore9\": 0, \"perk0\": 8010, \"perk0Var1\": 1736, \"perk0Var2\": 0, \"perk0Var3\": 0, \"perk1\": 9111, \"perk1Var1\": 1589, \"perk1Var2\": 320, \"perk1Var3\": 0, \"perk2\": 9104, \"perk2Var1\": 17, \"perk2Var2\": 40, \"perk2Var3\": 0, \"perk3\": 8299, \"perk3Var1\": 984, \"perk3Var2\": 0, \"perk3Var3\": 0, \"perk4\": 8139, \"perk4Var1\": 1082, \"perk4Var2\": 0, \"perk4Var3\": 0, \"perk5\": 8135, \"perk5Var1\": 4374, \"perk5Var2\": 5, \"perk5Var3\": 0, \"perkPrimaryStyle\": 8000, \"perkSubStyle\": 8100, \"statPerk0\": 5005, \"statPerk1\": 5008, \"statPerk2\": 5003}, \"timeline\": {\"participantId\": 8, \"creepsPerMinDeltas\": {\"10-20\": 4, \"0-10\": 4.7, \"20-30\": 3.6}, \"xpPerMinDeltas\": {\"10-20\": 479.5, \"0-10\": 327.4, \"20-30\": 619.7}, \"goldPerMinDeltas\": {\"10-20\": 384.6, \"0-10\": 228.9, \"20-30\": 472.7}, \"csDiffPerMinDeltas\": {\"10-20\": 0.9000000000000001, \"0-10\": 0, \"20-30\": 1}, \"xpDiffPerMinDeltas\": {\"10-20\": 140.5, \"0-10\": -66.79999999999998, \"20-30\": 64.4}, \"damageTakenPerMinDeltas\": {\"10-20\": 867.4, \"0-10\": 702, \"20-30\": 1402.8}, \"damageTakenDiffPerMinDeltas\": {\"10-20\": -37.60000000000002, \"0-10\": 179.70000000000002, \"20-30\": 149.7}, \"role\": \"SOLO\", \"lane\": \"TOP\"}}, {\"participantId\": 9, \"teamId\": 200, \"championId\": 421, \"spell1Id\": 11, \"spell2Id\": 4, \"stats\": {\"participantId\": 9, \"win\": true, \"item0\": 1400, \"item1\": 3071, \"item2\": 3026, \"item3\": 3082, \"item4\": 1011, \"item5\": 3047, \"item6\": 3364, \"kills\": 7, \"deaths\": 7, \"assists\": 15, \"largestKillingSpree\": 2, \"largestMultiKill\": 1, \"killingSprees\": 1, \"longestTimeSpentLiving\": 589, \"doubleKills\": 0, \"tripleKills\": 0, \"quadraKills\": 0, \"pentaKills\": 0, \"unrealKills\": 0, \"totalDamageDealt\": 137146, \"magicDamageDealt\": 5621, \"physicalDamageDealt\": 113872, \"trueDamageDealt\": 17652, \"largestCriticalStrike\": 0, \"totalDamageDealtToChampions\": 16127, \"magicDamageDealtToChampions\": 0, \"physicalDamageDealtToChampions\": 12749, \"trueDamageDealtToChampions\": 3378, \"totalHeal\": 13329, \"totalUnitsHealed\": 1, \"damageSelfMitigated\": 25037, \"damageDealtToObjectives\": 14805, \"damageDealtToTurrets\": 1513, \"visionScore\": 29, \"timeCCingOthers\": 24, \"totalDamageTaken\": 34633, \"magicalDamageTaken\": 13648, \"physicalDamageTaken\": 20736, \"trueDamageTaken\": 249, \"goldEarned\": 13599, \"goldSpent\": 12250, \"turretKills\": 0, \"inhibitorKills\": 0, \"totalMinionsKilled\": 38, \"neutralMinionsKilled\": 127, \"neutralMinionsKilledTeamJungle\": 67, \"neutralMinionsKilledEnemyJungle\": 15, \"totalTimeCrowdControlDealt\": 380, \"champLevel\": 16, \"visionWardsBoughtInGame\": 1, \"sightWardsBoughtInGame\": 0, \"wardsPlaced\": 7, \"wardsKilled\": 4, \"firstBloodKill\": false, \"firstBloodAssist\": false, \"firstTowerKill\": false, \"firstTowerAssist\": true, \"firstInhibitorKill\": false, \"firstInhibitorAssist\": false, \"combatPlayerScore\": 0, \"objectivePlayerScore\": 0, \"totalPlayerScore\": 0, \"totalScoreRank\": 0, \"playerScore0\": 0, \"playerScore1\": 0, \"playerScore2\": 0, \"playerScore3\": 0, \"playerScore4\": 0, \"playerScore5\": 0, \"playerScore6\": 0, \"playerScore7\": 0, \"playerScore8\": 0, \"playerScore9\": 0, \"perk0\": 9923, \"perk0Var1\": 41, \"perk0Var2\": 80, \"perk0Var3\": 0, \"perk1\": 8126, \"perk1Var1\": 856, \"perk1Var2\": 0, \"perk1Var3\": 0, \"perk2\": 8136, \"perk2Var1\": 6, \"perk2Var2\": 12, \"perk2Var3\": 0, \"perk3\": 8135, \"perk3Var1\": 3069, \"perk3Var2\": 5, \"perk3Var3\": 0, \"perk4\": 8275, \"perk4Var1\": 24, \"perk4Var2\": 0, \"perk4Var3\": 0, \"perk5\": 8232, \"perk5Var1\": 4, \"perk5Var2\": 20, \"perk5Var3\": 0, \"perkPrimaryStyle\": 8100, \"perkSubStyle\": 8200, \"statPerk0\": 5005, \"statPerk1\": 5008, \"statPerk2\": 5002}, \"timeline\": {\"participantId\": 9, \"creepsPerMinDeltas\": {\"10-20\": 0.7, \"0-10\": 0.8, \"20-30\": 1.7000000000000002}, \"xpPerMinDeltas\": {\"10-20\": 531.5999999999999, \"0-10\": 343.8, \"20-30\": 528.2}, \"goldPerMinDeltas\": {\"10-20\": 518, \"0-10\": 291.5, \"20-30\": 424.2}, \"csDiffPerMinDeltas\": {\"10-20\": -0.9, \"0-10\": 0.4, \"20-30\": 1.2}, \"xpDiffPerMinDeltas\": {\"10-20\": 95.99999999999997, \"0-10\": 11.199999999999989, \"20-30\": 84.09999999999997}, \"damageTakenPerMinDeltas\": {\"10-20\": 1138.5, \"0-10\": 673.7, \"20-30\": 1356.2}, \"damageTakenDiffPerMinDeltas\": {\"10-20\": -54.099999999999966, \"0-10\": -26.700000000000017, \"20-30\": -211.69999999999993}, \"role\": \"NONE\", \"lane\": \"JUNGLE\"}}, {\"participantId\": 10, \"teamId\": 200, \"championId\": 69, \"spell1Id\": 3, \"spell2Id\": 4, \"stats\": {\"participantId\": 10, \"win\": true, \"item0\": 3151, \"item1\": 3040, \"item2\": 3157, \"item3\": 3116, \"item4\": 3041, \"item5\": 2055, \"item6\": 3363, \"kills\": 9, \"deaths\": 4, \"assists\": 12, \"largestKillingSpree\": 4, \"largestMultiKill\": 2, \"killingSprees\": 2, \"longestTimeSpentLiving\": 570, \"doubleKills\": 2, \"tripleKills\": 0, \"quadraKills\": 0, \"pentaKills\": 0, \"unrealKills\": 0, \"totalDamageDealt\": 185615, \"magicDamageDealt\": 169684, \"physicalDamageDealt\": 12978, \"trueDamageDealt\": 2951, \"largestCriticalStrike\": 0, \"totalDamageDealtToChampions\": 32279, \"magicDamageDealtToChampions\": 31809, \"physicalDamageDealtToChampions\": 470, \"trueDamageDealtToChampions\": 0, \"totalHeal\": 11644, \"totalUnitsHealed\": 1, \"damageSelfMitigated\": 18321, \"damageDealtToObjectives\": 27962, \"damageDealtToTurrets\": 4077, \"visionScore\": 23, \"timeCCingOthers\": 41, \"totalDamageTaken\": 28569, \"magicalDamageTaken\": 12370, \"physicalDamageTaken\": 15123, \"trueDamageTaken\": 1076, \"goldEarned\": 15476, \"goldSpent\": 13725, \"turretKills\": 2, \"inhibitorKills\": 0, \"totalMinionsKilled\": 210, \"neutralMinionsKilled\": 21, \"neutralMinionsKilledTeamJungle\": 17, \"neutralMinionsKilledEnemyJungle\": 3, \"totalTimeCrowdControlDealt\": 454, \"champLevel\": 17, \"visionWardsBoughtInGame\": 5, \"sightWardsBoughtInGame\": 0, \"wardsPlaced\": 12, \"wardsKilled\": 1, \"firstBloodKill\": false, \"firstBloodAssist\": false, \"firstTowerKill\": false, \"firstTowerAssist\": false, \"firstInhibitorKill\": false, \"firstInhibitorAssist\": true, \"combatPlayerScore\": 0, \"objectivePlayerScore\": 0, \"totalPlayerScore\": 0, \"totalScoreRank\": 0, \"playerScore0\": 0, \"playerScore1\": 0, \"playerScore2\": 0, \"playerScore3\": 0, \"playerScore4\": 0, \"playerScore5\": 0, \"playerScore6\": 0, \"playerScore7\": 0, \"playerScore8\": 0, \"playerScore9\": 0, \"perk0\": 8010, \"perk0Var1\": 1106, \"perk0Var2\": 0, \"perk0Var3\": 0, \"perk1\": 8009, \"perk1Var1\": 7015, \"perk1Var2\": 500, \"perk1Var3\": 0, \"perk2\": 9105, \"perk2Var1\": 16, \"perk2Var2\": 10, \"perk2Var3\": 0, \"perk3\": 8014, \"perk3Var1\": 760, \"perk3Var2\": 0, \"perk3Var3\": 0, \"perk4\": 8139, \"perk4Var1\": 1191, \"perk4Var2\": 0, \"perk4Var3\": 0, \"perk5\": 8135, \"perk5Var1\": 4857, \"perk5Var2\": 5, \"perk5Var3\": 0, \"perkPrimaryStyle\": 8000, \"perkSubStyle\": 8100, \"statPerk0\": 5008, \"statPerk1\": 5008, \"statPerk2\": 5002}, \"timeline\": {\"participantId\": 10, \"creepsPerMinDeltas\": {\"10-20\": 7.2, \"0-10\": 8.2, \"20-30\": 4.9}, \"xpPerMinDeltas\": {\"10-20\": 483.9, \"0-10\": 450.1, \"20-30\": 655.3}, \"goldPerMinDeltas\": {\"10-20\": 369.4, \"0-10\": 335.70000000000005, \"20-30\": 689.3}, \"csDiffPerMinDeltas\": {\"10-20\": 1.2999999999999998, \"0-10\": 1.2999999999999998, \"20-30\": 4.440892098500626e-16}, \"xpDiffPerMinDeltas\": {\"10-20\": 43, \"0-10\": 50.599999999999994, \"20-30\": 144.69999999999996}, \"damageTakenPerMinDeltas\": {\"10-20\": 853.4, \"0-10\": 268.8, \"20-30\": 1352.1999999999998}, \"damageTakenDiffPerMinDeltas\": {\"10-20\": 25.60000000000005, \"0-10\": -81.09999999999997, \"20-30\": 50.59999999999991}, \"role\": \"SOLO\", \"lane\": \"MIDDLE\"}}]\n"
     ]
    }
   ],
   "source": [
    "print(json.dumps(game['participants']))"
   ]
  },
  {
   "cell_type": "code",
   "execution_count": 30,
   "metadata": {},
   "outputs": [
    {
     "name": "stdout",
     "output_type": "stream",
     "text": [
      "\n",
      "Information about the game;\n",
      "\n",
      "Game ID: 4519157822,\n",
      "Platform ID: EUW1,\n",
      "gameDuration: 1891 seconds\n",
      "{\n",
      "    \"participantId\": 1,\n",
      "    \"player\": {\n",
      "        \"platformId\": \"EUW1\",\n",
      "        \"accountId\": \"_yn9uOO2q8Ttc553mb5p_9pCjc_9X496HNKOfZXB3EMcw8g\",\n",
      "        \"summonerName\": \"Piotr Kelemen\",\n",
      "        \"summonerId\": \"IrjpNfDET9uK9ka2skNDE71aqXG944ctYaMCHOXOSz3MhX4\",\n",
      "        \"currentPlatformId\": \"EUW1\",\n",
      "        \"currentAccountId\": \"_yn9uOO2q8Ttc553mb5p_9pCjc_9X496HNKOfZXB3EMcw8g\",\n",
      "        \"matchHistoryUri\": \"/v1/stats/player_history/EUW1/228526736\",\n",
      "        \"profileIcon\": 9\n",
      "    }\n",
      "}\n",
      "\n"
     ]
    }
   ],
   "source": [
    "print(f\"\"\"\n",
    "Information about the game;\n",
    "\n",
    "Game ID: {game[\"gameId\"]},\n",
    "Platform ID: {game[\"platformId\"]},\n",
    "gameDuration: {game[\"gameDuration\"]} seconds\n",
    "{json.dumps(game[\"participantIdentities\"][0], indent=4)}\n",
    "\"\"\")"
   ]
  },
  {
   "cell_type": "code",
   "execution_count": null,
   "metadata": {},
   "outputs": [],
   "source": []
  }
 ],
 "metadata": {
  "kernelspec": {
   "display_name": "Python 3",
   "language": "python",
   "name": "python3"
  },
  "language_info": {
   "codemirror_mode": {
    "name": "ipython",
    "version": 3
   },
   "file_extension": ".py",
   "mimetype": "text/x-python",
   "name": "python",
   "nbconvert_exporter": "python",
   "pygments_lexer": "ipython3",
   "version": "3.8.5"
  }
 },
 "nbformat": 4,
 "nbformat_minor": 5
}
